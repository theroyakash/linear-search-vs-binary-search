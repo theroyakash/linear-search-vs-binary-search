{
  "nbformat": 4,
  "nbformat_minor": 0,
  "metadata": {
    "colab": {
      "name": "Assignment 01 KC.ipynb",
      "provenance": [],
      "collapsed_sections": [],
      "authorship_tag": "ABX9TyNsPqsxjxq8ByuWSz1WDpjK",
      "include_colab_link": true
    },
    "kernelspec": {
      "name": "python3",
      "display_name": "Python 3"
    },
    "accelerator": "GPU"
  },
  "cells": [
    {
      "cell_type": "markdown",
      "metadata": {
        "id": "view-in-github",
        "colab_type": "text"
      },
      "source": [
        "<a href=\"https://colab.research.google.com/github/theroyakash/linear-search-vs-binary-search/blob/master/linear%20vs%20binary%20search.ipynb\" target=\"_parent\"><img src=\"https://colab.research.google.com/assets/colab-badge.svg\" alt=\"Open In Colab\"/></a>"
      ]
    },
    {
      "cell_type": "markdown",
      "metadata": {
        "id": "XZ2ID6QjgfB8",
        "colab_type": "text"
      },
      "source": [
        "# Search Algorithm speed test:\n",
        "\n",
        "Speed test between two popular search techniques:\n",
        "1. Linear Search \n",
        "2. Binary search\n",
        "\n"
      ]
    },
    {
      "cell_type": "markdown",
      "metadata": {
        "id": "wLtEwJF2gmdx",
        "colab_type": "text"
      },
      "source": [
        "## Here is a code for linear seach"
      ]
    },
    {
      "cell_type": "code",
      "metadata": {
        "id": "2hm73uVFgYkE",
        "colab_type": "code",
        "colab": {
          "base_uri": "https://localhost:8080/",
          "height": 34
        },
        "outputId": "defb2081-d84f-444b-f678-6d390b252600"
      },
      "source": [
        "def linear_search(data, target):\n",
        "    for i in data:\n",
        "        if i == target:\n",
        "            return True\n",
        "    return False\n",
        "\n",
        "linear_search(data=[1,23,4,121234,4], target=23)"
      ],
      "execution_count": 11,
      "outputs": [
        {
          "output_type": "execute_result",
          "data": {
            "text/plain": [
              "True"
            ]
          },
          "metadata": {
            "tags": []
          },
          "execution_count": 11
        }
      ]
    },
    {
      "cell_type": "markdown",
      "metadata": {
        "id": "XtNzLOj0jRVX",
        "colab_type": "text"
      },
      "source": [
        "## Here is a code for Binary Search"
      ]
    },
    {
      "cell_type": "code",
      "metadata": {
        "id": "MBT1JBzlhxU4",
        "colab_type": "code",
        "colab": {}
      },
      "source": [
        "def binary_search(data, target):\n",
        "    data.sort()\n",
        "\n",
        "    lower_bound = 0\n",
        "    upper_bound = len(data)-1\n",
        "\n",
        "    while lower_bound < upper_bound:\n",
        "        mid_index = lower_bound + (upper_bound - lower_bound) // 2\n",
        "\n",
        "        if data[mid_index] == target:\n",
        "            return True\n",
        "        elif data[mid_index] < target:\n",
        "            lower_bound = mid_index +1\n",
        "        else:\n",
        "            upper_bound = mid_index\n",
        "    \n",
        "    return False\n"
      ],
      "execution_count": 0,
      "outputs": []
    },
    {
      "cell_type": "code",
      "metadata": {
        "id": "vcfEP1_ilLGy",
        "colab_type": "code",
        "colab": {
          "base_uri": "https://localhost:8080/",
          "height": 34
        },
        "outputId": "b2a59715-8f55-4d9b-a027-5fd089693fd1"
      },
      "source": [
        "binary_search([1,213,14,25,36,455,5234,13,425,356,46,7,3413,4,346,3645,734,13423645,645647,7], 214)"
      ],
      "execution_count": 25,
      "outputs": [
        {
          "output_type": "execute_result",
          "data": {
            "text/plain": [
              "False"
            ]
          },
          "metadata": {
            "tags": []
          },
          "execution_count": 25
        }
      ]
    },
    {
      "cell_type": "markdown",
      "metadata": {
        "id": "Fe93brXMn5kx",
        "colab_type": "text"
      },
      "source": [
        "# Time and Speed calculation:\n",
        "\n",
        "Note that the ```.sort()``` method is implemented inside the Binary Search Function Definition, because for a binary search to work we've to have any sort method implemented.\n",
        "\n",
        "Here the Sort Method is actually Tim Sort runs in ``` n log(n)``` time"
      ]
    },
    {
      "cell_type": "code",
      "metadata": {
        "id": "x84WyXlAlSD6",
        "colab_type": "code",
        "colab": {}
      },
      "source": [
        "import numpy as np\n",
        "import time\n",
        "from matplotlib import pyplot as plt"
      ],
      "execution_count": 0,
      "outputs": []
    },
    {
      "cell_type": "code",
      "metadata": {
        "id": "Y8knW3DvsR0O",
        "colab_type": "code",
        "colab": {
          "base_uri": "https://localhost:8080/",
          "height": 279
        },
        "outputId": "f7e09a32-09f7-4464-cf49-190bbe96de9a"
      },
      "source": [
        "# For random Elements of size 500 to 1000000 we see the plots of time taken by linear search and Binary Search:\n",
        "x_axis = []\n",
        "y_axis = []\n",
        "z_axis = []\n",
        "\n",
        "for i in range(500,1000499,500):\n",
        "    \n",
        "    x_axis.append(i)\n",
        "\n",
        "    a = np.random.randint(1,high=100,size=int(i), dtype=int)\n",
        "    \n",
        "    tic = time.time()\n",
        "    linear_search(a,101)\n",
        "    toc = time.time()\n",
        "    total_time_linear_Search = 1000 * (toc-tic)\n",
        "\n",
        "    tic1 = time.time()\n",
        "    binary_search(a,101)\n",
        "    toc1 = time.time()\n",
        "    total_time_binary_Search = 1000 * (toc1-tic1)\n",
        "    \n",
        "    y_axis.append(total_time_linear_Search)\n",
        "    z_axis.append(total_time_binary_Search)\n",
        "\n",
        "plt.plot(x_axis,y_axis)\n",
        "plt.plot(x_axis, z_axis)\n",
        "plt.xlabel(\"Number of Elements in an Array\")\n",
        "plt.legend(['Linear Search', 'Binary Search'])\n",
        "plt.show()"
      ],
      "execution_count": 50,
      "outputs": [
        {
          "output_type": "display_data",
          "data": {
            "image/png": "[encoded data removed]",
            "text/plain": [
              "<Figure size 432x288 with 1 Axes>"
            ]
          },
          "metadata": {
            "tags": []
          }
        }
      ]
    }
  ]
}
